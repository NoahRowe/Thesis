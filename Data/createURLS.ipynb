{
 "cells": [
  {
   "cell_type": "code",
   "execution_count": 2,
   "metadata": {},
   "outputs": [],
   "source": [
    "import pandas as pd\n",
    "import numpy as np"
   ]
  },
  {
   "cell_type": "code",
   "execution_count": 3,
   "metadata": {},
   "outputs": [
    {
     "name": "stdout",
     "output_type": "stream",
     "text": [
      "['DraftData/CombineStats2010.csv', 'DraftData/CombineStats2011.csv', 'DraftData/CombineStats2012.csv', 'DraftData/CombineStats2013.csv', 'DraftData/CombineStats2014.csv', 'DraftData/CombineStats2015.csv']\n"
     ]
    }
   ],
   "source": [
    "# Read in all the data files\n",
    "paths = [\"DraftData/CombineStats201\"+ str(i) + \".csv\" for i in range(0, 6)]\n",
    "print(paths)\n",
    "\n",
    "data = []\n",
    "for p in paths:\n",
    "    temp = pd.read_csv(p)\n",
    "    data.append(temp[\"PLAYER\"])"
   ]
  },
  {
   "cell_type": "code",
   "execution_count": 4,
   "metadata": {},
   "outputs": [],
   "source": [
    "# Convert each player into a url.....\n",
    "\n",
    "URLS = []\n",
    "for d in data:\n",
    "    for player in d:\n",
    "        player = player.lower().replace(\"-\", \"\").replace(\".\", \"\").replace(\"'\", \"\").replace(\"iii\", \"\").replace(\"?\", \"\")\n",
    "        name = player.replace(\" \", \"\")\n",
    "        if name.isalpha():\n",
    "            pURL = player.replace(\" \", \"-\")\n",
    "        else:\n",
    "            print(player, name)\n",
    "            pURL = None\n",
    "        URLS.append(\"https://www.sports-reference.com/cbb/players/{}-1.html\".format(pURL))\n",
    "        "
   ]
  },
  {
   "cell_type": "code",
   "execution_count": 5,
   "metadata": {
    "scrolled": false
   },
   "outputs": [
    {
     "name": "stdout",
     "output_type": "stream",
     "text": [
      "344\n"
     ]
    }
   ],
   "source": [
    "print(len(URLS))"
   ]
  },
  {
   "cell_type": "code",
   "execution_count": null,
   "metadata": {},
   "outputs": [],
   "source": []
  }
 ],
 "metadata": {
  "kernelspec": {
   "display_name": "Python 3",
   "language": "python",
   "name": "python3"
  },
  "language_info": {
   "codemirror_mode": {
    "name": "ipython",
    "version": 3
   },
   "file_extension": ".py",
   "mimetype": "text/x-python",
   "name": "python",
   "nbconvert_exporter": "python",
   "pygments_lexer": "ipython3",
   "version": "3.6.5"
  }
 },
 "nbformat": 4,
 "nbformat_minor": 2
}
